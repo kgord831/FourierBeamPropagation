{
 "cells": [
  {
   "cell_type": "code",
   "execution_count": 10,
   "metadata": {},
   "outputs": [],
   "source": [
    "import numpy as np\n",
    "from numpy.fft import fft, ifft, fft2, ifft2, fftshift, ifftshift, fftfreq, fft\n",
    "import matplotlib.pyplot as plt"
   ]
  },
  {
   "cell_type": "code",
   "execution_count": 47,
   "metadata": {},
   "outputs": [],
   "source": [
    "class Propagate():\n",
    "    def __init__(self, wl, dat, x, y, z0):\n",
    "        self.wl = wl\n",
    "        self._dat = dat.astype(np.complex128)\n",
    "        self.x = x\n",
    "        self.y = y\n",
    "        self.z0 = z0\n",
    "        self.fx = fftfreq(x.size, x[1] - x[0])[:, np.newaxis]\n",
    "        self.fy = fftfreq(y.size, y[1] - y[0])[np.newaxis, :]\n",
    "        \n",
    "    @property\n",
    "    def dat(self):\n",
    "        return np.copy(self._dat)\n",
    "    \n",
    "    @dat.setter\n",
    "    def dat(self, newdat):\n",
    "        self._dat = np.copy(newdat)\n",
    "        \n",
    "    def mask(self, mask):\n",
    "        self._dat *= mask\n",
    "\n",
    "    def lens(self, f):\n",
    "        mask = np.exp(1j*(self.x[:, np.newaxis]**2 + self.y[np.newaxis, :]**2)/(2*self.wl*f))\n",
    "        self.mask(mask)\n",
    "        \n",
    "    def propagate(self, z):\n",
    "        kmat = fft2(fftshift(self._dat))\n",
    "        tf = np.exp(1j*2*np.pi*np.sqrt(1/self.wl**2 - self.fx**2 - self.fy**2)*(z - self.z0))\n",
    "        kmat *= tf\n",
    "        self._dat = ifftshift(ifft2(kmat))\n",
    "        return self.dat\n",
    "        \n",
    "    def plot(self, fig=None, ax=None):\n",
    "        if fig is None and ax is None:\n",
    "            fig, ax = plt.subplots(1)\n",
    "        ax.imshow(np.abs(self._dat.T)**2, extent=(self.x[0], self.x[-1], self.y[0], self.y[-1]))\n",
    "        return fig, ax"
   ]
  },
  {
   "cell_type": "code",
   "execution_count": 48,
   "metadata": {},
   "outputs": [],
   "source": [
    "def show_img(dat, x, y):\n",
    "    fig, ax = plt.subplots(1)\n",
    "    ax.imshow(np.abs(dat.T)**2, extent=(x[0], x[-1], y[0], y[-1]))"
   ]
  },
  {
   "cell_type": "code",
   "execution_count": 85,
   "metadata": {},
   "outputs": [
    {
     "name": "stdout",
     "output_type": "stream",
     "text": [
      "0.9999964237204608\n",
      "0.04686356708134731\n",
      "0.0468630014724232\n"
     ]
    },
    {
     "data": {
      "image/png": "[encoded data removed]",
      "text/plain": [
       "<Figure size 432x288 with 1 Axes>"
      ]
     },
     "metadata": {
      "needs_background": "light"
     },
     "output_type": "display_data"
    },
    {
     "data": {
      "image/png": "[encoded data removed]",
      "text/plain": [
       "<Figure size 432x288 with 1 Axes>"
      ]
     },
     "metadata": {
      "needs_background": "light"
     },
     "output_type": "display_data"
    }
   ],
   "source": [
    "%matplotlib inline\n",
    "def getfwhm(x, y):\n",
    "    argmax = np.argmax(y)\n",
    "    arghalfmax = np.argmin(np.abs(y - np.max(y)/2))\n",
    "    return 2*np.abs(x[argmax] - x[arghalfmax])\n",
    "wl = 177e-6\n",
    "fwhm = 1\n",
    "f = 300\n",
    "\n",
    "x = np.linspace(-4*fwhm, 4*fwhm, 2**22)\n",
    "sigma = fwhm/(2*np.sqrt(2*np.log(2)))\n",
    "dat_in = np.exp(-x**2/(2*sigma**2))\n",
    "\n",
    "fx = fftfreq(x.size, x[1] - x[0])\n",
    "F = (1/wl**2 - fx**2).astype(complex)\n",
    "\n",
    "dat = np.copy(dat_in).astype(complex)\n",
    "\n",
    "lens = np.exp(-1j*np.pi*x**2/(wl*f))\n",
    "otf = np.exp(1j*2*np.pi*np.sqrt(F)*f)\n",
    "dat *= lens\n",
    "dat_fft = fft(fftshift(dat))\n",
    "dat_fft *= otf\n",
    "dat = ifftshift(ifft(dat_fft))\n",
    "\n",
    "plt.figure(1)\n",
    "plt.plot(x, np.abs(dat_in)**2)\n",
    "dat_fft = fft(fftshift(dat_in))\n",
    "plt.figure(2)\n",
    "plt.plot(x, np.abs(dat)**2)\n",
    "\n",
    "print(getfwhm(x, np.abs(dat_in)))\n",
    "print(getfwhm(x, np.abs(dat)))\n",
    "\n",
    "print(4*np.log(2)*wl*f/(np.pi*fwhm))"
   ]
  },
  {
   "cell_type": "code",
   "execution_count": null,
   "metadata": {},
   "outputs": [],
   "source": []
  },
  {
   "cell_type": "code",
   "execution_count": 68,
   "metadata": {},
   "outputs": [],
   "source": [
    "%matplotlib inline\n",
    "def getfwhm(x, y):\n",
    "    argmax = np.argmax(y)\n",
    "    arghalfmax = np.argmin(np.abs(y - np.max(y)/2))\n",
    "    return 2*np.abs(x[argmax] - x[arghalfmax])\n",
    "wl = 177e-6\n",
    "fwhm = 2\n",
    "f = 50.4\n",
    "w = 0.003\n",
    "d = 0.001\n",
    "\n",
    "x = np.linspace(-4*fwhm, 4*fwhm, 2**19)\n",
    "sigma = fwhm/(2*np.sqrt(2*np.log(2)))\n",
    "dat_in = np.exp(-x**2/(2*sigma**2))\n",
    "\n",
    "fx = fftfreq(x.size, x[1] - x[0])\n",
    "F = (1/wl**2 - fx**2).astype(complex)\n",
    "\n",
    "dat = np.copy(dat_in).astype(complex)\n",
    "\n",
    "lens = np.exp(-1j*np.pi*x**2/(wl*f))\n",
    "otf = np.exp(1j*2*np.pi*np.sqrt(F)*(f - d/2))\n",
    "dat *= lens\n",
    "dat_fft = fft(fftshift(dat))\n",
    "dat_fft *= otf\n",
    "dat = ifftshift(ifft(dat_fft))\n",
    "\n",
    "aperture = np.zeros(x.size)\n",
    "aperture[np.abs(x) < w/2] = 1\n",
    "dz = 1e-4\n",
    "otf = np.exp(1j*2*np.pi*np.sqrt(F)*dz)\n",
    "for z in np.ones(int(round(d/dz)))*dz:\n",
    "    dat *= aperture\n",
    "    dat_fft = fft(fftshift(dat))\n",
    "    dat_fft *= otf\n",
    "    dat = ifftshift(ifft(dat_fft))\n",
    "\n",
    "otf = np.exp(1j*2*np.pi*np.sqrt(F)*(f - d/2))\n",
    "dat_fft = fft(fftshift(dat))\n",
    "dat_fft = otf*dat_fft\n",
    "dat = ifftshift(ifft(dat_fft))\n",
    "\n",
    "plt.figure(1)\n",
    "plt.plot(x, np.abs(dat_in)**2)\n",
    "dat_fft = fft(fftshift(dat_in))\n",
    "plt.figure(2)\n",
    "plt.plot(x, np.abs(dat)**2)"
   ]
  },
  {
   "cell_type": "code",
   "execution_count": 69,
   "metadata": {},
   "outputs": [
    {
     "name": "stdout",
     "output_type": "stream",
     "text": [
      "1.414187267660651\n",
      "3.0075740958673407\n"
     ]
    }
   ],
   "source": [
    "print(getfwhm(x, np.abs(dat_in)**2))\n",
    "print(getfwhm(x, np.abs(dat)**2))"
   ]
  },
  {
   "cell_type": "code",
   "execution_count": 111,
   "metadata": {},
   "outputs": [
    {
     "data": {
      "text/plain": [
       "(-0.5, 0.5)"
      ]
     },
     "execution_count": 111,
     "metadata": {},
     "output_type": "execute_result"
    },
    {
     "data": {
      "image/png": "[encoded data removed]",
      "text/plain": [
       "<Figure size 432x288 with 1 Axes>"
      ]
     },
     "metadata": {
      "needs_background": "light"
     },
     "output_type": "display_data"
    },
    {
     "data": {
      "image/png": "[encoded data removed]",
      "text/plain": [
       "<Figure size 432x288 with 1 Axes>"
      ]
     },
     "metadata": {
      "needs_background": "light"
     },
     "output_type": "display_data"
    },
    {
     "data": {
      "image/png": "[encoded data removed]",
      "text/plain": [
       "<Figure size 432x288 with 1 Axes>"
      ]
     },
     "metadata": {
      "needs_background": "light"
     },
     "output_type": "display_data"
    }
   ],
   "source": [
    "wl = 177e-6\n",
    "x = np.linspace(-8, 8, 2**8)\n",
    "y = np.copy(x)\n",
    "fx = fftfreq(x.size, x[1] - x[0])\n",
    "fy = fftfreq(y.size, y[1] - y[0])\n",
    "fwhm = 5\n",
    "sigma = fwhm/(2*np.sqrt(2*np.log(2)))\n",
    "r = x[:, np.newaxis]**2 + y[np.newaxis, :]**2\n",
    "dat_in = np.exp(-r/(2*sigma**2))\n",
    "f = 10\n",
    "show_img(np.abs(dat_in)**2, x, y)\n",
    "dat_fft = ifftshift(fft2(fftshift(dat_in)))\n",
    "show_img(np.abs(dat_fft)**2, x/(wl*f), y/(wl*f))\n",
    "idx = np.argmin(np.abs(y))\n",
    "fig, ax = plt.subplots(1)\n",
    "ax.plot(x, np.abs(dat_fft[:, idx])**2)\n",
    "ax.set_xlim([-0.5, 0.5])"
   ]
  },
  {
   "cell_type": "code",
   "execution_count": 12,
   "metadata": {},
   "outputs": [
    {
     "data": {
      "text/plain": [
       "(<Figure size 432x288 with 1 Axes>,\n",
       " <matplotlib.axes._subplots.AxesSubplot at 0x1f1b07ed6a0>)"
      ]
     },
     "execution_count": 12,
     "metadata": {},
     "output_type": "execute_result"
    },
    {
     "data": {
      "image/png": "[encoded data removed]",
      "text/plain": [
       "<Figure size 432x288 with 1 Axes>"
      ]
     },
     "metadata": {
      "needs_background": "light"
     },
     "output_type": "display_data"
    },
    {
     "data": {
      "image/png": "[encoded data removed]",
      "text/plain": [
       "<Figure size 432x288 with 1 Axes>"
      ]
     },
     "metadata": {
      "needs_background": "light"
     },
     "output_type": "display_data"
    }
   ],
   "source": [
    "x = np.linspace(-8, 8, 2**10)\n",
    "y = np.linspace(-8, 8, 2**10)\n",
    "# fwhm = 3\n",
    "# sigma = fwhm/(2*np.sqrt(2*np.log(2)))\n",
    "dat_in = np.zeros((x.size, y.size))\n",
    "dat_in[np.sqrt(x[:, np.newaxis]**2 + y[np.newaxis, :]**2) < 1] = 1\n",
    "beam = Propagate(177e-6, dat_in, x, y, 0)\n",
    "beam.plot()\n",
    "beam.lens(10)\n",
    "beam.propagate(10)\n",
    "beam.plot()"
   ]
  },
  {
   "cell_type": "code",
   "execution_count": 25,
   "metadata": {},
   "outputs": [
    {
     "data": {
      "text/plain": [
       "[<matplotlib.lines.Line2D at 0x1cc784b0b00>]"
      ]
     },
     "execution_count": 25,
     "metadata": {},
     "output_type": "execute_result"
    },
    {
     "data": {
      "image/png": "[encoded data removed]",
      "text/plain": [
       "<Figure size 432x288 with 1 Axes>"
      ]
     },
     "metadata": {
      "needs_background": "light"
     },
     "output_type": "display_data"
    }
   ],
   "source": [
    "t = np.linspace(-3, 3, 2**8)\n",
    "y = np.sin(2*np.pi*1*t)\n",
    "y_fft = np.abs(ifftshift(fft(fftshift(y))))**2\n",
    "plt.plot(ifftshift(fftfreq(2**8, t[1] - t[0])), y_fft)"
   ]
  },
  {
   "cell_type": "code",
   "execution_count": 21,
   "metadata": {},
   "outputs": [
    {
     "name": "stdout",
     "output_type": "stream",
     "text": [
      "[[ 0  1  2  3]\n",
      " [ 4  5  6  7]\n",
      " [ 8  9 10 11]\n",
      " [12 13 14 15]]\n",
      "[[10 11  8  9]\n",
      " [14 15 12 13]\n",
      " [ 2  3  0  1]\n",
      " [ 6  7  4  5]]\n"
     ]
    }
   ],
   "source": [
    "print(np.arange(16).reshape(4,4))\n",
    "print(fftshift(np.arange(16).reshape(4,4)))"
   ]
  },
  {
   "cell_type": "code",
   "execution_count": null,
   "metadata": {},
   "outputs": [],
   "source": []
  }
 ],
 "metadata": {
  "kernelspec": {
   "display_name": "Python 3",
   "language": "python",
   "name": "python3"
  },
  "language_info": {
   "codemirror_mode": {
    "name": "ipython",
    "version": 3
   },
   "file_extension": ".py",
   "mimetype": "text/x-python",
   "name": "python",
   "nbconvert_exporter": "python",
   "pygments_lexer": "ipython3",
   "version": "3.7.3"
  }
 },
 "nbformat": 4,
 "nbformat_minor": 2
}
